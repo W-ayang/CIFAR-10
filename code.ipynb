{
 "cells": [
  {
   "cell_type": "code",
   "execution_count": 6,
   "metadata": {},
   "outputs": [
    {
     "name": "stdout",
     "output_type": "stream",
     "text": [
      "==================================================\n",
      "字典里的内容:\n",
      "dict_keys([b'batch_label', b'labels', b'data', b'filenames'])\n",
      "==================================================\n",
      "batch_label 里面存的内容:\n",
      "batch_label: training batch 1 of 5\n",
      "key: batch_label, type: <class 'bytes'>\n",
      "==================================================\n",
      "key: labels, type: <class 'list'>\n",
      "  list_en: 10000\n",
      "  前5个: [6, 9, 9, 4, 1]\n",
      "==================================================\n",
      "key: data, type: <class 'numpy.ndarray'>\n",
      "  shape: (10000, 3072)\n",
      "  前5个: \n",
      "[[ 59  43  50 ... 140  84  72]\n",
      " [154 126 105 ... 139 142 144]\n",
      " [255 253 253 ...  83  83  84]\n",
      " [ 28  37  38 ...  28  37  46]\n",
      " [170 168 177 ...  82  78  80]]\n",
      "==================================================\n",
      "key: filenames, type: <class 'list'>\n",
      "  list_en: 10000\n",
      "  前5个: [b'leptodactylus_pentadactylus_s_000004.png', b'camion_s_000148.png', b'tipper_truck_s_001250.png', b'american_elk_s_001521.png', b'station_wagon_s_000293.png']\n",
      "==================================================\n"
     ]
    }
   ],
   "source": [
    "import matplotlib.pyplot as plt\n",
    "\n",
    "def unpickle(file): \n",
    "    import pickle \n",
    "    with open(file, 'rb') as fo: \n",
    "        dict = pickle.load(fo,encoding='bytes') \n",
    "    return dict\n",
    "\n",
    "print(\"=\"*50)\n",
    "print(\"字典里的内容:\")\n",
    "data1 = unpickle(\"data_batch_1\")\n",
    "print(data1.keys())\n",
    "\n",
    "# batch_label 里面存的内容\n",
    "print(\"=\"*50)\n",
    "print(\"batch_label 里面存的内容:\")\n",
    "batch_label = data1[b'batch_label'].decode('utf-8')\n",
    "print(f\"batch_label: {batch_label}\")\n",
    "\n",
    "# 每个键对应值的内容\n",
    "for key, value in data1.items():\n",
    "    key_str = key.decode('utf-8')\n",
    "    type_info = f\"type: {type(value)}\"\n",
    "    \n",
    "    if isinstance(value, list):\n",
    "        print(f\"key: {key_str}, {type_info}\")\n",
    "        print(f\"  list_en: {len(value)}\")\n",
    "        print(f\"  前5个: {value[:5]}\")\n",
    "    elif isinstance(value, dict):\n",
    "        print(f\"key: {key_str}, {type_info}\")\n",
    "        print(f\"  dict_keys: {str(value.keys())}\")\n",
    "    elif hasattr(value, 'shape'):\n",
    "        print(f\"key: {key_str}, {type_info}\")\n",
    "        print(f\"  shape: {value.shape}\")\n",
    "        print(f\"  前5个: \\n{value[:5]}\")\n",
    "    else:\n",
    "        print(f\"key: {key_str}, {type_info}\")\n",
    "\n",
    "    print(\"=\"*50)\n"
   ]
  }
 ],
 "metadata": {
  "kernelspec": {
   "display_name": "Python 3",
   "language": "python",
   "name": "python3"
  },
  "language_info": {
   "codemirror_mode": {
    "name": "ipython",
    "version": 3
   },
   "file_extension": ".py",
   "mimetype": "text/x-python",
   "name": "python",
   "nbconvert_exporter": "python",
   "pygments_lexer": "ipython3",
   "version": "3.9.17"
  }
 },
 "nbformat": 4,
 "nbformat_minor": 2
}
